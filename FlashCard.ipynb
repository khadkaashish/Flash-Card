{
  "nbformat": 4,
  "nbformat_minor": 0,
  "metadata": {
    "colab": {
      "provenance": [],
      "authorship_tag": "ABX9TyMxHUzbbZu7YDf5ENi7t5Qt",
      "include_colab_link": true
    },
    "kernelspec": {
      "name": "python3",
      "display_name": "Python 3"
    },
    "language_info": {
      "name": "python"
    }
  },
  "cells": [
    {
      "cell_type": "markdown",
      "metadata": {
        "id": "view-in-github",
        "colab_type": "text"
      },
      "source": [
        "<a href=\"https://colab.research.google.com/github/khadkaashish/Flash-Card/blob/main/FlashCard.ipynb\" target=\"_parent\"><img src=\"https://colab.research.google.com/assets/colab-badge.svg\" alt=\"Open In Colab\"/></a>"
      ]
    },
    {
      "cell_type": "code",
      "execution_count": 53,
      "metadata": {
        "id": "Z4JqZqSyP3S9"
      },
      "outputs": [],
      "source": [
        "import pandas as pd"
      ]
    },
    {
      "cell_type": "code",
      "source": [
        "df = pd.read_excel('vocabulary_list.xlsx')"
      ],
      "metadata": {
        "id": "kq48VLkEYBJi"
      },
      "execution_count": 54,
      "outputs": []
    },
    {
      "cell_type": "code",
      "source": [
        "word = input(\"Enter word:\")\n",
        "df1 = df[df['Word'].str.contains(word)]\n",
        "print (df1)\n"
      ],
      "metadata": {
        "colab": {
          "base_uri": "https://localhost:8080/"
        },
        "id": "I9gX5ep1g-gr",
        "outputId": "52e823c6-faa5-491f-9058-4815b7c6700a"
      },
      "execution_count": 63,
      "outputs": [
        {
          "output_type": "stream",
          "name": "stdout",
          "text": [
            "Enter word:abe\n",
            "       Word                                    Meaning\n",
            "0  aberrant       departing from an accepted standard.\n",
            "1  abeyance  a state of temporary disuse or suspension\n"
          ]
        }
      ]
    }
  ]
}
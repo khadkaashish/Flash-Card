{
  "nbformat": 4,
  "nbformat_minor": 0,
  "metadata": {
    "colab": {
      "provenance": [],
      "authorship_tag": "ABX9TyMNJkCcu8av52U5D9YUCtrX",
      "include_colab_link": true
    },
    "kernelspec": {
      "name": "python3",
      "display_name": "Python 3"
    },
    "language_info": {
      "name": "python"
    }
  },
  "cells": [
    {
      "cell_type": "markdown",
      "metadata": {
        "id": "view-in-github",
        "colab_type": "text"
      },
      "source": [
        "<a href=\"https://colab.research.google.com/github/khadkaashish/Flash-Card/blob/main/FlashCard.ipynb\" target=\"_parent\"><img src=\"https://colab.research.google.com/assets/colab-badge.svg\" alt=\"Open In Colab\"/></a>"
      ]
    },
    {
      "cell_type": "code",
      "execution_count": null,
      "metadata": {
        "id": "Z4JqZqSyP3S9"
      },
      "outputs": [],
      "source": [
        "import pandas as pd"
      ]
    },
    {
      "cell_type": "code",
      "source": [
        "url = 'https://docs.google.com/spreadsheets/d/1q7FjTRgNmnb2N71ovoZ4UI4YNuaWE2t_/edit?usp=sharing&ouid=108884240840604012057&rtpof=true&sd=true'\n",
        "df1 = pd.read_csv(url)\n",
        "df2 = pd.read_excel('vocab_list.xlsx')"
      ],
      "metadata": {
        "id": "kq48VLkEYBJi"
      },
      "execution_count": 31,
      "outputs": []
    },
    {
      "cell_type": "code",
      "source": [
        "word = input(\"Enter word:\")\n",
        "if word in (df2.eq(word)).any():\n",
        "    df = df2[df2[word].str.contains(word)]\n",
        "    print(\"meaning: \"+df.columns[1])\n",
        "else:\n",
        "  print (\"sorry\")\n"
      ],
      "metadata": {
        "id": "I9gX5ep1g-gr"
      },
      "execution_count": null,
      "outputs": []
    }
  ]
}